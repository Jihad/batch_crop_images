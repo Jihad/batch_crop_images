{
 "cells": [
  {
   "cell_type": "code",
   "execution_count": 60,
   "metadata": {
    "pycharm": {
     "is_executing": false
    }
   },
   "outputs": [],
   "source": [
    "import os\n",
    "from PIL import Image"
   ]
  },
  {
   "cell_type": "code",
   "execution_count": 62,
   "metadata": {},
   "outputs": [],
   "source": [
    "# Images Source Location and Saving Destination Location \n",
    "path = '/Users/jihadalmofadda/Dropbox/Work/HS/_OPS/coverImages/rci2/' #\n",
    "crop_path = '/Users/jihadalmofadda/Dropbox/Work/HS/_OPS/coverImages/rci2_crop/'\n",
    "vault = os.listdir(path)\n",
    "\n",
    "# Your Needed Crop Ratio and new files suffix\n",
    "crop_ratio = 2.4\n",
    "name_suffix = '_iOS'\n",
    "\n",
    "def crop_image(path, file_name, crop_path, ratio = crop_ratio):\n",
    "    new_name = os.path.splitext(file_name)[0] + name_suffix\n",
    "    extension = os.path.splitext(file_name)[1]\n",
    "    #Middle of Picture Crop dimensions\n",
    "    x1 = 0\n",
    "    y1 = abs(im.width/ratio - im.height)/2\n",
    "    x2 = im.width\n",
    "    y2 = im.width/ratio + abs(im.width/ratio - im.height)/2\n",
    "    \n",
    "    #Crop and save\n",
    "    cropped = im.crop((x1,y1,x2,y2))\n",
    "    cropped.save('{}{}{}'.format(crop_path,new_name,extension))"
   ]
  },
  {
   "cell_type": "code",
   "execution_count": 58,
   "metadata": {},
   "outputs": [
    {
     "name": "stdout",
     "output_type": "stream",
     "text": [
      "Error in 11809-1264708.jpeg file\n",
      "Error in 9196-974876.jpg file\n"
     ]
    }
   ],
   "source": [
    "# Cropping all images in Path Destination \n",
    "for file in vault:\n",
    "    im = Image.open('{}{}'.format(path,file))\n",
    "    if im.width > 450:\n",
    "        try:\n",
    "            crop_image(path, file, crop_path)\n",
    "        except IOError:\n",
    "            print('Error in {} file'.format(file))"
   ]
  }
 ],
 "metadata": {
  "kernelspec": {
   "display_name": "Python 3",
   "language": "python",
   "name": "python3"
  },
  "language_info": {
   "codemirror_mode": {
    "name": "ipython",
    "version": 2
   },
   "file_extension": ".py",
   "mimetype": "text/x-python",
   "name": "python",
   "nbconvert_exporter": "python",
   "pygments_lexer": "ipython2",
   "version": "2.7.17"
  },
  "pycharm": {
   "stem_cell": {
    "cell_type": "raw",
    "metadata": {
     "collapsed": false
    },
    "source": []
   }
  }
 },
 "nbformat": 4,
 "nbformat_minor": 1
}
